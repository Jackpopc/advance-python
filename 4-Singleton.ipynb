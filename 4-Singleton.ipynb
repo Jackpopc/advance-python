{
 "cells": [
  {
   "cell_type": "markdown",
   "metadata": {},
   "source": [
    "# 普通软件设计模式"
   ]
  },
  {
   "cell_type": "code",
   "execution_count": 1,
   "metadata": {
    "ExecuteTime": {
     "end_time": "2019-10-19T12:42:10.663811Z",
     "start_time": "2019-10-19T12:42:10.654832Z"
    }
   },
   "outputs": [
    {
     "name": "stdout",
     "output_type": "stream",
     "text": [
      "2538846619576\n",
      "2538846620024\n"
     ]
    }
   ],
   "source": [
    "class Software(object):\n",
    "    def __init__(self):\n",
    "        pass\n",
    "\n",
    "soft1 = Software()\n",
    "soft2 = Software()\n",
    "print(id(soft1))\n",
    "print(id(soft2))"
   ]
  },
  {
   "cell_type": "markdown",
   "metadata": {},
   "source": [
    "# python单例模式"
   ]
  },
  {
   "cell_type": "markdown",
   "metadata": {
    "ExecuteTime": {
     "end_time": "2019-10-19T13:06:49.376959Z",
     "start_time": "2019-10-19T13:06:49.373008Z"
    }
   },
   "source": [
    "## \\_\\_new\\_\\_"
   ]
  },
  {
   "cell_type": "code",
   "execution_count": 37,
   "metadata": {
    "ExecuteTime": {
     "end_time": "2019-10-19T14:07:51.823209Z",
     "start_time": "2019-10-19T14:07:51.815230Z"
    }
   },
   "outputs": [
    {
     "name": "stdout",
     "output_type": "stream",
     "text": [
      "2538877093648\n",
      "2538877093648\n"
     ]
    }
   ],
   "source": [
    "class Singleton(object):\n",
    "    def __new__(cls, *args, **kw):\n",
    "        if not hasattr(cls, '_instance'):\n",
    "            orig = super(Singleton, cls)\n",
    "            cls._instance = orig.__new__(cls)\n",
    "        return cls._instance\n",
    " \n",
    "class Books(Singleton):\n",
    "    def __init__(self):\n",
    "        pass\n",
    " \n",
    "book1 = Books()\n",
    "book2 = Books()\n",
    "print(id(book1))\n",
    "print(id(book2))"
   ]
  },
  {
   "cell_type": "markdown",
   "metadata": {},
   "source": [
    "## 装饰器"
   ]
  },
  {
   "cell_type": "code",
   "execution_count": 38,
   "metadata": {
    "ExecuteTime": {
     "end_time": "2019-10-19T14:07:52.516478Z",
     "start_time": "2019-10-19T14:07:52.506505Z"
    }
   },
   "outputs": [
    {
     "name": "stdout",
     "output_type": "stream",
     "text": [
      "2538874966872\n",
      "2538874966872\n"
     ]
    }
   ],
   "source": [
    "def singleton(cls, *args, **kw):    \n",
    "    instances = {}    \n",
    "    def wrapper():    \n",
    "        if cls not in instances:    \n",
    "            instances[cls] = cls(*args, **kw)    \n",
    "        return instances[cls]    \n",
    "    return wrapper  \n",
    "\n",
    "@singleton\n",
    "class Animal(object):\n",
    "    def __init__(self):\n",
    "        pass\n",
    "    \n",
    "animal1 = Animal()\n",
    "animal2 = Animal()\n",
    "print(id(animal1))\n",
    "print(id(animal2))"
   ]
  },
  {
   "cell_type": "markdown",
   "metadata": {},
   "source": [
    "## metaclass"
   ]
  },
  {
   "cell_type": "code",
   "execution_count": 39,
   "metadata": {
    "ExecuteTime": {
     "end_time": "2019-10-19T14:07:52.976151Z",
     "start_time": "2019-10-19T14:07:52.967174Z"
    }
   },
   "outputs": [
    {
     "name": "stdout",
     "output_type": "stream",
     "text": [
      "2538875293880\n",
      "2538875297632\n"
     ]
    }
   ],
   "source": [
    "class Singleton(type):  \n",
    "    def __init__(cls, name, bases, dict):  \n",
    "        super(Singleton, cls).__init__(name, bases, dict)  \n",
    "        cls.instance = None  \n",
    "  \n",
    "    def __call__(cls, *args, **kw):  \n",
    "        if cls.instance is None:  \n",
    "            cls.instance = super(Singleton, cls).__call__(*args, **kw)  \n",
    "            return cls.instance  \n",
    "  \n",
    "class MyClass(object):  \n",
    "    __metaclass__ = Singleton  \n",
    "  \n",
    "print(id(MyClass()))\n",
    "print(id(MyClass()))  "
   ]
  },
  {
   "cell_type": "markdown",
   "metadata": {},
   "source": [
    "# Usage"
   ]
  },
  {
   "cell_type": "code",
   "execution_count": 40,
   "metadata": {
    "ExecuteTime": {
     "end_time": "2019-10-19T14:07:53.717909Z",
     "start_time": "2019-10-19T14:07:53.710926Z"
    }
   },
   "outputs": [],
   "source": [
    "class SqlClient(object):\n",
    "    def __init__(self, host, user, passwd):\n",
    "        self.host = host\n",
    "        self.user = user\n",
    "        self.passwd = passwd\n",
    "        self.register()\n",
    "    \n",
    "    def register(self):\n",
    "        self.info = \"{}--{}---{}\".format(self.host, self.user, self.passwd)\n",
    "    \n",
    "    def select(self):\n",
    "        print(\"SELECT * FROM {}\".format(self.host))"
   ]
  },
  {
   "cell_type": "markdown",
   "metadata": {},
   "source": [
    "## 反复实例化"
   ]
  },
  {
   "cell_type": "code",
   "execution_count": 41,
   "metadata": {
    "ExecuteTime": {
     "end_time": "2019-10-19T14:07:57.968879Z",
     "start_time": "2019-10-19T14:07:57.960902Z"
    }
   },
   "outputs": [
    {
     "name": "stdout",
     "output_type": "stream",
     "text": [
      "SELECT * FROM 10.293.291.19\n",
      "SELECT * FROM 10.293.291.19\n",
      "SELECT * FROM 10.293.291.19\n"
     ]
    }
   ],
   "source": [
    "host = \"10.293.291.19\"\n",
    "user = \"admin\"\n",
    "passwd = \"666666\"\n",
    "def use_data_1():\n",
    "    sql_client = SqlClient(host, user, passwd)\n",
    "    sql_client.select()\n",
    "    \n",
    "def use_data_2():\n",
    "    sql_client = SqlClient(host, user, passwd)\n",
    "    sql_client.select()\n",
    "\n",
    "def use_data_3():\n",
    "    sql_client = SqlClient(host, user, passwd)\n",
    "    sql_client.select()\n",
    "    \n",
    "use_data_1()\n",
    "use_data_2()\n",
    "use_data_3()"
   ]
  },
  {
   "cell_type": "markdown",
   "metadata": {},
   "source": [
    "## 把实例化后的对象作为参数传入到每个用到select的函数里"
   ]
  },
  {
   "cell_type": "code",
   "execution_count": 42,
   "metadata": {
    "ExecuteTime": {
     "end_time": "2019-10-19T14:07:58.711033Z",
     "start_time": "2019-10-19T14:07:58.703054Z"
    }
   },
   "outputs": [
    {
     "name": "stdout",
     "output_type": "stream",
     "text": [
      "SELECT * FROM 10.293.291.19\n",
      "SELECT * FROM 10.293.291.19\n",
      "SELECT * FROM 10.293.291.19\n"
     ]
    }
   ],
   "source": [
    "host = \"10.293.291.19\"\n",
    "user = \"admin\"\n",
    "passwd = \"666666\"\n",
    "def use_data_1(sql_client):\n",
    "    sql_client.select()\n",
    "    \n",
    "def use_data_2(sql_client):\n",
    "    sql_client.select()\n",
    "\n",
    "def use_data_3(sql_client):\n",
    "    sql_client.select()\n",
    "    \n",
    "sql_client = SqlClient(host, user, passwd)\n",
    "use_data_1(sql_client)\n",
    "use_data_2(sql_client)\n",
    "use_data_3(sql_client)"
   ]
  },
  {
   "cell_type": "code",
   "execution_count": 43,
   "metadata": {
    "ExecuteTime": {
     "end_time": "2019-10-19T14:07:59.638804Z",
     "start_time": "2019-10-19T14:07:59.630819Z"
    }
   },
   "outputs": [
    {
     "name": "stdout",
     "output_type": "stream",
     "text": [
      "SELECT * FROM 10.293.291.19\n",
      "SELECT * FROM 10.293.291.19\n"
     ]
    }
   ],
   "source": [
    "host = \"10.293.291.19\"\n",
    "user = \"admin\"\n",
    "passwd = \"666666\"\n",
    "def use_data_1(sql_client):\n",
    "    sql_client.select()\n",
    "    use_data_2(sql_client)\n",
    "    \n",
    "def use_data_2(sql_client):\n",
    "    use_data_3(sql_client)\n",
    "\n",
    "def use_data_3(sql_client):\n",
    "    sql_client.select()\n",
    "    \n",
    "sql_client = SqlClient(host, user, passwd)\n",
    "use_data_1(sql_client)"
   ]
  },
  {
   "cell_type": "markdown",
   "metadata": {},
   "source": [
    "## 单例模式"
   ]
  },
  {
   "cell_type": "code",
   "execution_count": 50,
   "metadata": {
    "ExecuteTime": {
     "end_time": "2019-10-19T14:10:54.315205Z",
     "start_time": "2019-10-19T14:10:54.308271Z"
    }
   },
   "outputs": [],
   "source": [
    "class Singleton(object):\n",
    "    def __new__(cls, *args, **kw):\n",
    "        if not hasattr(cls, '_instance'):\n",
    "            orig = super(Singleton, cls)\n",
    "            cls._instance = orig.__new__(cls)\n",
    "        return cls._instance\n",
    "    \n",
    "class SqlClient(Singleton):\n",
    "    info = None\n",
    "    \n",
    "    def register(self, host, user, passwd):\n",
    "        self.info = \"{}--{}--{}\".format(host, user, passwd)\n",
    "        \n",
    "    def select(self):\n",
    "        print(self.info)"
   ]
  },
  {
   "cell_type": "code",
   "execution_count": 51,
   "metadata": {
    "ExecuteTime": {
     "end_time": "2019-10-19T14:10:56.520947Z",
     "start_time": "2019-10-19T14:10:56.515994Z"
    }
   },
   "outputs": [],
   "source": [
    "SqlClient().register(host, user, passwd)"
   ]
  },
  {
   "cell_type": "code",
   "execution_count": 55,
   "metadata": {
    "ExecuteTime": {
     "end_time": "2019-10-19T14:12:25.902187Z",
     "start_time": "2019-10-19T14:12:25.895207Z"
    }
   },
   "outputs": [
    {
     "name": "stdout",
     "output_type": "stream",
     "text": [
      "10.293.291.19--admin--666666\n",
      "10.293.291.19--admin--666666\n",
      "10.293.291.19--admin--666666\n"
     ]
    }
   ],
   "source": [
    "def use_data_1():\n",
    "    SqlClient().select()\n",
    "\n",
    "def use_data_2():\n",
    "    SqlClient().select()\n",
    "    \n",
    "def use_data_3():\n",
    "    SqlClient().select()\n",
    "\n",
    "use_data_1()\n",
    "use_data_2()\n",
    "use_data_3()"
   ]
  },
  {
   "cell_type": "code",
   "execution_count": null,
   "metadata": {},
   "outputs": [],
   "source": []
  }
 ],
 "metadata": {
  "kernelspec": {
   "display_name": "Python 3",
   "language": "python",
   "name": "python3"
  },
  "language_info": {
   "codemirror_mode": {
    "name": "ipython",
    "version": 3
   },
   "file_extension": ".py",
   "mimetype": "text/x-python",
   "name": "python",
   "nbconvert_exporter": "python",
   "pygments_lexer": "ipython3",
   "version": "3.6.4"
  },
  "toc": {
   "base_numbering": 1,
   "nav_menu": {},
   "number_sections": true,
   "sideBar": true,
   "skip_h1_title": false,
   "title_cell": "Table of Contents",
   "title_sidebar": "Contents",
   "toc_cell": false,
   "toc_position": {},
   "toc_section_display": true,
   "toc_window_display": false
  }
 },
 "nbformat": 4,
 "nbformat_minor": 2
}
