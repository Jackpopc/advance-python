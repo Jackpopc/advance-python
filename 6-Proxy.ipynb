{
 "cells": [
  {
   "cell_type": "code",
   "execution_count": 1,
   "metadata": {
    "ExecuteTime": {
     "end_time": "2019-11-15T15:23:45.545203Z",
     "start_time": "2019-11-15T15:23:45.539220Z"
    }
   },
   "outputs": [],
   "source": [
    "class NotFindError(Exception):\n",
    "    def __init__(self, msg):\n",
    "        self.msg = msg"
   ]
  },
  {
   "cell_type": "code",
   "execution_count": 2,
   "metadata": {
    "ExecuteTime": {
     "end_time": "2019-11-15T15:23:51.734064Z",
     "start_time": "2019-11-15T15:23:51.728162Z"
    }
   },
   "outputs": [],
   "source": [
    "class RealSubject(object):\n",
    "    def __init__(self):\n",
    "        self.score = {\n",
    "            \"张三\": 90,\n",
    "            \"李四\": 59,\n",
    "            \"王二\": 61\n",
    "        }\n",
    "\n",
    "    def num_students(self):\n",
    "        num = len(self.score.keys())\n",
    "        print(\"The number of students is {num}\".format(num=num))\n",
    "\n",
    "    def get_score(self, user_name):\n",
    "        _score = self.score.get(user_name)\n",
    "        print(\"The score of {user} is {score}\".format(user=user_name,\n",
    "                                                      score=_score))"
   ]
  },
  {
   "cell_type": "code",
   "execution_count": 3,
   "metadata": {
    "ExecuteTime": {
     "end_time": "2019-11-15T15:24:00.634526Z",
     "start_time": "2019-11-15T15:24:00.626550Z"
    }
   },
   "outputs": [],
   "source": [
    "class Proxy(object):\n",
    "    def __init__(self):\n",
    "        self.default_passwd = \"9l0skjlsa\"\n",
    "        self.real_subject = RealSubject()\n",
    "\n",
    "    def num_students(self):\n",
    "        self.real_subject.num_students()\n",
    "\n",
    "    def get_score(self, user_name):\n",
    "        print(\"You are visiting {} score ...\".format(user_name))\n",
    "        passwd = input(\"Please input password : \")\n",
    "        if passwd == self.default_passwd:\n",
    "            if user_name in self.real_subject.score.keys():\n",
    "                return self.real_subject.get_score(user_name)\n",
    "            else:\n",
    "                raise NotFindError(\"The student you are visiting not found.\")\n",
    "        else:\n",
    "            raise ValueError(\"The password you provided is wrong!\")"
   ]
  },
  {
   "cell_type": "markdown",
   "metadata": {},
   "source": [
    "# 密码错误，用户名正确"
   ]
  },
  {
   "cell_type": "code",
   "execution_count": 5,
   "metadata": {
    "ExecuteTime": {
     "end_time": "2019-11-15T15:25:57.105496Z",
     "start_time": "2019-11-15T15:24:44.408609Z"
    }
   },
   "outputs": [
    {
     "name": "stdout",
     "output_type": "stream",
     "text": [
      "You are visiting 张三 score ...\n",
      "Please input password : kdksla\n"
     ]
    },
    {
     "ename": "ValueError",
     "evalue": "The password you provided is wrong!",
     "output_type": "error",
     "traceback": [
      "\u001b[1;31m---------------------------------------------------------------------------\u001b[0m",
      "\u001b[1;31mValueError\u001b[0m                                Traceback (most recent call last)",
      "\u001b[1;32m<ipython-input-5-bd5b5c8f6df3>\u001b[0m in \u001b[0;36m<module>\u001b[1;34m\u001b[0m\n\u001b[0;32m      2\u001b[0m     \u001b[0mproxy\u001b[0m \u001b[1;33m=\u001b[0m \u001b[0mProxy\u001b[0m\u001b[1;33m(\u001b[0m\u001b[1;33m)\u001b[0m\u001b[1;33m\u001b[0m\u001b[0m\n\u001b[0;32m      3\u001b[0m     \u001b[0mproxy\u001b[0m\u001b[1;33m.\u001b[0m\u001b[0mget_score\u001b[0m\u001b[1;33m(\u001b[0m\u001b[1;34m\"张三\"\u001b[0m\u001b[1;33m)\u001b[0m\u001b[1;33m\u001b[0m\u001b[0m\n\u001b[1;32m----> 4\u001b[1;33m \u001b[0mclient\u001b[0m\u001b[1;33m(\u001b[0m\u001b[1;33m)\u001b[0m\u001b[1;33m\u001b[0m\u001b[0m\n\u001b[0m",
      "\u001b[1;32m<ipython-input-5-bd5b5c8f6df3>\u001b[0m in \u001b[0;36mclient\u001b[1;34m()\u001b[0m\n\u001b[0;32m      1\u001b[0m \u001b[1;32mdef\u001b[0m \u001b[0mclient\u001b[0m\u001b[1;33m(\u001b[0m\u001b[1;33m)\u001b[0m\u001b[1;33m:\u001b[0m\u001b[1;33m\u001b[0m\u001b[0m\n\u001b[0;32m      2\u001b[0m     \u001b[0mproxy\u001b[0m \u001b[1;33m=\u001b[0m \u001b[0mProxy\u001b[0m\u001b[1;33m(\u001b[0m\u001b[1;33m)\u001b[0m\u001b[1;33m\u001b[0m\u001b[0m\n\u001b[1;32m----> 3\u001b[1;33m     \u001b[0mproxy\u001b[0m\u001b[1;33m.\u001b[0m\u001b[0mget_score\u001b[0m\u001b[1;33m(\u001b[0m\u001b[1;34m\"张三\"\u001b[0m\u001b[1;33m)\u001b[0m\u001b[1;33m\u001b[0m\u001b[0m\n\u001b[0m\u001b[0;32m      4\u001b[0m \u001b[0mclient\u001b[0m\u001b[1;33m(\u001b[0m\u001b[1;33m)\u001b[0m\u001b[1;33m\u001b[0m\u001b[0m\n",
      "\u001b[1;32m<ipython-input-3-5fdc69c527cc>\u001b[0m in \u001b[0;36mget_score\u001b[1;34m(self, user_name)\u001b[0m\n\u001b[0;32m     16\u001b[0m                 \u001b[1;32mraise\u001b[0m \u001b[0mNotFindError\u001b[0m\u001b[1;33m(\u001b[0m\u001b[1;34m\"The student you are visiting not found.\"\u001b[0m\u001b[1;33m)\u001b[0m\u001b[1;33m\u001b[0m\u001b[0m\n\u001b[0;32m     17\u001b[0m         \u001b[1;32melse\u001b[0m\u001b[1;33m:\u001b[0m\u001b[1;33m\u001b[0m\u001b[0m\n\u001b[1;32m---> 18\u001b[1;33m             \u001b[1;32mraise\u001b[0m \u001b[0mValueError\u001b[0m\u001b[1;33m(\u001b[0m\u001b[1;34m\"The password you provided is wrong!\"\u001b[0m\u001b[1;33m)\u001b[0m\u001b[1;33m\u001b[0m\u001b[0m\n\u001b[0m",
      "\u001b[1;31mValueError\u001b[0m: The password you provided is wrong!"
     ]
    }
   ],
   "source": [
    "def client():\n",
    "    proxy = Proxy()\n",
    "    proxy.get_score(\"张三\")\n",
    "client()"
   ]
  },
  {
   "cell_type": "markdown",
   "metadata": {},
   "source": [
    "# 密码正确，用户名错误"
   ]
  },
  {
   "cell_type": "code",
   "execution_count": 7,
   "metadata": {
    "ExecuteTime": {
     "end_time": "2019-11-15T15:26:42.985098Z",
     "start_time": "2019-11-15T15:26:36.436174Z"
    },
    "scrolled": true
   },
   "outputs": [
    {
     "name": "stdout",
     "output_type": "stream",
     "text": [
      "You are visiting 李三 score ...\n",
      "Please input password : 9l0skjlsa\n"
     ]
    },
    {
     "ename": "NotFindError",
     "evalue": "The student you are visiting not found.",
     "output_type": "error",
     "traceback": [
      "\u001b[1;31m---------------------------------------------------------------------------\u001b[0m",
      "\u001b[1;31mNotFindError\u001b[0m                              Traceback (most recent call last)",
      "\u001b[1;32m<ipython-input-7-12858e528755>\u001b[0m in \u001b[0;36m<module>\u001b[1;34m\u001b[0m\n\u001b[0;32m      2\u001b[0m     \u001b[0mproxy\u001b[0m \u001b[1;33m=\u001b[0m \u001b[0mProxy\u001b[0m\u001b[1;33m(\u001b[0m\u001b[1;33m)\u001b[0m\u001b[1;33m\u001b[0m\u001b[0m\n\u001b[0;32m      3\u001b[0m     \u001b[0mproxy\u001b[0m\u001b[1;33m.\u001b[0m\u001b[0mget_score\u001b[0m\u001b[1;33m(\u001b[0m\u001b[1;34m\"李三\"\u001b[0m\u001b[1;33m)\u001b[0m\u001b[1;33m\u001b[0m\u001b[0m\n\u001b[1;32m----> 4\u001b[1;33m \u001b[0mclient\u001b[0m\u001b[1;33m(\u001b[0m\u001b[1;33m)\u001b[0m\u001b[1;33m\u001b[0m\u001b[0m\n\u001b[0m",
      "\u001b[1;32m<ipython-input-7-12858e528755>\u001b[0m in \u001b[0;36mclient\u001b[1;34m()\u001b[0m\n\u001b[0;32m      1\u001b[0m \u001b[1;32mdef\u001b[0m \u001b[0mclient\u001b[0m\u001b[1;33m(\u001b[0m\u001b[1;33m)\u001b[0m\u001b[1;33m:\u001b[0m\u001b[1;33m\u001b[0m\u001b[0m\n\u001b[0;32m      2\u001b[0m     \u001b[0mproxy\u001b[0m \u001b[1;33m=\u001b[0m \u001b[0mProxy\u001b[0m\u001b[1;33m(\u001b[0m\u001b[1;33m)\u001b[0m\u001b[1;33m\u001b[0m\u001b[0m\n\u001b[1;32m----> 3\u001b[1;33m     \u001b[0mproxy\u001b[0m\u001b[1;33m.\u001b[0m\u001b[0mget_score\u001b[0m\u001b[1;33m(\u001b[0m\u001b[1;34m\"李三\"\u001b[0m\u001b[1;33m)\u001b[0m\u001b[1;33m\u001b[0m\u001b[0m\n\u001b[0m\u001b[0;32m      4\u001b[0m \u001b[0mclient\u001b[0m\u001b[1;33m(\u001b[0m\u001b[1;33m)\u001b[0m\u001b[1;33m\u001b[0m\u001b[0m\n",
      "\u001b[1;32m<ipython-input-3-5fdc69c527cc>\u001b[0m in \u001b[0;36mget_score\u001b[1;34m(self, user_name)\u001b[0m\n\u001b[0;32m     14\u001b[0m                 \u001b[1;32mreturn\u001b[0m \u001b[0mself\u001b[0m\u001b[1;33m.\u001b[0m\u001b[0mreal_subject\u001b[0m\u001b[1;33m.\u001b[0m\u001b[0mget_score\u001b[0m\u001b[1;33m(\u001b[0m\u001b[0muser_name\u001b[0m\u001b[1;33m)\u001b[0m\u001b[1;33m\u001b[0m\u001b[0m\n\u001b[0;32m     15\u001b[0m             \u001b[1;32melse\u001b[0m\u001b[1;33m:\u001b[0m\u001b[1;33m\u001b[0m\u001b[0m\n\u001b[1;32m---> 16\u001b[1;33m                 \u001b[1;32mraise\u001b[0m \u001b[0mNotFindError\u001b[0m\u001b[1;33m(\u001b[0m\u001b[1;34m\"The student you are visiting not found.\"\u001b[0m\u001b[1;33m)\u001b[0m\u001b[1;33m\u001b[0m\u001b[0m\n\u001b[0m\u001b[0;32m     17\u001b[0m         \u001b[1;32melse\u001b[0m\u001b[1;33m:\u001b[0m\u001b[1;33m\u001b[0m\u001b[0m\n\u001b[0;32m     18\u001b[0m             \u001b[1;32mraise\u001b[0m \u001b[0mValueError\u001b[0m\u001b[1;33m(\u001b[0m\u001b[1;34m\"The password you provided is wrong!\"\u001b[0m\u001b[1;33m)\u001b[0m\u001b[1;33m\u001b[0m\u001b[0m\n",
      "\u001b[1;31mNotFindError\u001b[0m: The student you are visiting not found."
     ]
    }
   ],
   "source": [
    "def client():\n",
    "    proxy = Proxy()\n",
    "    proxy.get_score(\"李三\")\n",
    "client()"
   ]
  },
  {
   "cell_type": "markdown",
   "metadata": {},
   "source": [
    "# 密码正确，用户名正确"
   ]
  },
  {
   "cell_type": "code",
   "execution_count": 8,
   "metadata": {
    "ExecuteTime": {
     "end_time": "2019-11-15T15:28:27.705145Z",
     "start_time": "2019-11-15T15:28:22.455934Z"
    }
   },
   "outputs": [
    {
     "name": "stdout",
     "output_type": "stream",
     "text": [
      "You are visiting 李四 score ...\n",
      "Please input password : 9l0skjlsa\n",
      "The score of 李四 is 59\n"
     ]
    }
   ],
   "source": [
    "def client():\n",
    "    proxy = Proxy()\n",
    "    proxy.get_score(\"李四\")\n",
    "client()"
   ]
  },
  {
   "cell_type": "code",
   "execution_count": null,
   "metadata": {},
   "outputs": [],
   "source": []
  }
 ],
 "metadata": {
  "kernelspec": {
   "display_name": "Python 3",
   "language": "python",
   "name": "python3"
  },
  "language_info": {
   "codemirror_mode": {
    "name": "ipython",
    "version": 3
   },
   "file_extension": ".py",
   "mimetype": "text/x-python",
   "name": "python",
   "nbconvert_exporter": "python",
   "pygments_lexer": "ipython3",
   "version": "3.6.4"
  },
  "toc": {
   "base_numbering": 1,
   "nav_menu": {},
   "number_sections": true,
   "sideBar": true,
   "skip_h1_title": false,
   "title_cell": "Table of Contents",
   "title_sidebar": "Contents",
   "toc_cell": false,
   "toc_position": {},
   "toc_section_display": true,
   "toc_window_display": false
  }
 },
 "nbformat": 4,
 "nbformat_minor": 2
}
