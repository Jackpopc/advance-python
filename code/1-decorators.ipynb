{
 "cells": [
  {
   "cell_type": "markdown",
   "metadata": {},
   "source": [
    "# 示例"
   ]
  },
  {
   "cell_type": "markdown",
   "metadata": {},
   "source": [
    "统计函数运行时间--常用方法"
   ]
  },
  {
   "cell_type": "code",
   "execution_count": 11,
   "metadata": {},
   "outputs": [
    {
     "name": "stdout",
     "output_type": "stream",
     "text": [
      "func one run time 1.0003266334533691\n",
      "func two run time 1.0006120204925537\n",
      "func three run time 1.0003201961517334\n"
     ]
    }
   ],
   "source": [
    "from time import time, sleep\n",
    "\n",
    "\n",
    "def fun_one():\n",
    "    start = time()\n",
    "    sleep(1)\n",
    "    end = time()\n",
    "    cost_time = end - start\n",
    "    print(\"func one run time {}\".format(cost_time))\n",
    "    \n",
    "def fun_two():\n",
    "    start = time()\n",
    "    sleep(1)\n",
    "    end = time()\n",
    "    cost_time = end - start\n",
    "    print(\"func two run time {}\".format(cost_time))\n",
    "    \n",
    "def fun_three():\n",
    "    start = time()\n",
    "    sleep(1)\n",
    "    end = time()\n",
    "    cost_time = end - start\n",
    "    print(\"func three run time {}\".format(cost_time))\n",
    "\n",
    "    \n",
    "fun_one()\n",
    "fun_two()\n",
    "fun_three()"
   ]
  },
  {
   "cell_type": "markdown",
   "metadata": {},
   "source": [
    "统计函数运行时间--装饰器"
   ]
  },
  {
   "cell_type": "code",
   "execution_count": 14,
   "metadata": {},
   "outputs": [
    {
     "name": "stdout",
     "output_type": "stream",
     "text": [
      "func three run time 1.0003271102905273\n",
      "func three run time 1.0006263256072998\n",
      "func three run time 1.000312328338623\n"
     ]
    }
   ],
   "source": [
    "def run_time(func):\n",
    "    def wrapper():\n",
    "        start = time()\n",
    "        func()                  # 函数在这里运行\n",
    "        end = time()\n",
    "        cost_time = end - start\n",
    "        print(\"func three run time {}\".format(cost_time))\n",
    "    return wrapper\n",
    "\n",
    "\n",
    "@run_time\n",
    "def fun_one():\n",
    "    sleep(1)\n",
    "    \n",
    "@run_time\n",
    "def fun_two():\n",
    "    sleep(1)\n",
    "    \n",
    "@run_time\n",
    "def fun_three():\n",
    "    sleep(1)\n",
    "\n",
    "    \n",
    "fun_one()\n",
    "fun_two()\n",
    "fun_three()"
   ]
  },
  {
   "cell_type": "markdown",
   "metadata": {},
   "source": [
    "# 带参数的装饰器"
   ]
  },
  {
   "cell_type": "code",
   "execution_count": 19,
   "metadata": {},
   "outputs": [
    {
     "name": "stdout",
     "output_type": "stream",
     "text": [
      "[One] func three run time 1.0013229846954346\n",
      "[Two] func three run time 1.000720500946045\n",
      "[Three] func three run time 1.0001459121704102\n"
     ]
    }
   ],
   "source": [
    "def logger(msg=None):\n",
    "    def run_time(func):\n",
    "        def wrapper(*args, **kwargs):\n",
    "            start = time()\n",
    "            func()                  # 函数在这里运行\n",
    "            end = time()\n",
    "            cost_time = end - start\n",
    "            print(\"[{}] func three run time {}\".format(msg, cost_time))\n",
    "        return wrapper\n",
    "    return run_time\n",
    "\n",
    "@logger(msg=\"One\")\n",
    "def fun_one():\n",
    "    sleep(1)\n",
    "    \n",
    "@logger(msg=\"Two\")\n",
    "def fun_two():\n",
    "    sleep(1)\n",
    "    \n",
    "@logger(msg=\"Three\")\n",
    "def fun_three():\n",
    "    sleep(1)\n",
    "    \n",
    "fun_one()\n",
    "fun_two()\n",
    "fun_three()"
   ]
  },
  {
   "cell_type": "markdown",
   "metadata": {},
   "source": [
    "打印日志"
   ]
  },
  {
   "cell_type": "code",
   "execution_count": 47,
   "metadata": {},
   "outputs": [],
   "source": [
    "import logging\n",
    "\n",
    "logging.basicConfig(level=logging.DEBUG)\n",
    "log = logging.getLogger(\"Test\")\n",
    "\n",
    "def logger_info(func):\n",
    "    logmsg = func.__name__\n",
    "    def wrapper():\n",
    "        func() \n",
    "        log.log(logging.INFO, \"{} if over.\".format(logmsg))\n",
    "    return wrapper\n",
    "\n",
    "@logger_info\n",
    "def main():\n",
    "    sleep(1)\n",
    "    \n",
    "main()"
   ]
  },
  {
   "cell_type": "markdown",
   "metadata": {},
   "source": [
    "# 自定义属性 "
   ]
  },
  {
   "cell_type": "code",
   "execution_count": 74,
   "metadata": {},
   "outputs": [],
   "source": [
    "import logging\n",
    "from functools import partial\n",
    "\n",
    "def wrapper_property(obj, func=None):\n",
    "    if func is None:\n",
    "        return partial(attach_wrapper, obj)\n",
    "    setattr(obj, func.__name__, func)\n",
    "    return func\n",
    "\n",
    "def logger_info(level, name=None, message=None):\n",
    "    def decorate(func):\n",
    "        \n",
    "        logmsg = message if message else func.__name__\n",
    "\n",
    "        def wrapper(*args, **kwargs):\n",
    "            log.log(level, logmsg)\n",
    "            return func(*args, **kwargs)\n",
    "\n",
    "        @wrapper_property(wrapper)\n",
    "        def set_level(newlevel):\n",
    "            nonlocal level\n",
    "            level = newlevel\n",
    "\n",
    "        @wrapper_property(wrapper)\n",
    "        def set_message(newmsg):\n",
    "            nonlocal logmsg\n",
    "            logmsg = newmsg\n",
    "\n",
    "        return wrapper\n",
    "\n",
    "    return decorate\n",
    "\n",
    "\n",
    "@logger_info(logging.WARNING)\n",
    "def main(x, y):\n",
    "    return x + y"
   ]
  },
  {
   "cell_type": "code",
   "execution_count": 76,
   "metadata": {},
   "outputs": [
    {
     "name": "stderr",
     "output_type": "stream",
     "text": [
      "ERROR:Test:main\n"
     ]
    },
    {
     "data": {
      "text/plain": [
       "10"
      ]
     },
     "execution_count": 76,
     "metadata": {},
     "output_type": "execute_result"
    }
   ],
   "source": [
    "main.set_level(logging.ERROR)\n",
    "main(5, 5)"
   ]
  },
  {
   "cell_type": "markdown",
   "metadata": {},
   "source": [
    "# 保留元信息的装饰器"
   ]
  },
  {
   "cell_type": "code",
   "execution_count": 105,
   "metadata": {},
   "outputs": [
    {
     "name": "stdout",
     "output_type": "stream",
     "text": [
      "func three run time 1.0003266334533691\n"
     ]
    }
   ],
   "source": [
    "from functools import wraps\n",
    "from time import time\n",
    "\n",
    "def run_time(func):\n",
    "    @wraps(func)\n",
    "    def wrapper(*args, **kwargs):\n",
    "        start = time()\n",
    "        func()                  # 函数在这里运行\n",
    "        end = time()\n",
    "        cost_time = end - start\n",
    "        print(\"func three run time {}\".format(cost_time))\n",
    "    return wrapper\n",
    "\n",
    "\n",
    "@run_time\n",
    "def fun_one():\n",
    "    '''\n",
    "    func one doc.\n",
    "    '''\n",
    "    sleep(1)\n",
    "    \n",
    "fun_one()"
   ]
  },
  {
   "cell_type": "code",
   "execution_count": 106,
   "metadata": {},
   "outputs": [
    {
     "name": "stdout",
     "output_type": "stream",
     "text": [
      "fun_one\n",
      "\n",
      "    func one doc.\n",
      "    \n"
     ]
    }
   ],
   "source": [
    "print(fun_one.__name__)\n",
    "print(fun_one.__doc__)"
   ]
  }
 ],
 "metadata": {
  "kernelspec": {
   "display_name": "Python 3",
   "language": "python",
   "name": "python3"
  },
  "language_info": {
   "codemirror_mode": {
    "name": "ipython",
    "version": 3
   },
   "file_extension": ".py",
   "mimetype": "text/x-python",
   "name": "python",
   "nbconvert_exporter": "python",
   "pygments_lexer": "ipython3",
   "version": "3.6.4"
  }
 },
 "nbformat": 4,
 "nbformat_minor": 2
}
