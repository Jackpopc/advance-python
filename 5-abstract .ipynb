{
 "cells": [
  {
   "cell_type": "markdown",
   "metadata": {},
   "source": [
    "# 继承"
   ]
  },
  {
   "cell_type": "code",
   "execution_count": 3,
   "metadata": {
    "ExecuteTime": {
     "end_time": "2019-10-27T11:19:36.768353Z",
     "start_time": "2019-10-27T11:19:36.759375Z"
    }
   },
   "outputs": [
    {
     "name": "stdout",
     "output_type": "stream",
     "text": [
      "dog eat food....\n",
      "cat eat food....\n"
     ]
    }
   ],
   "source": [
    "class Animal(object):\n",
    "    def eat(self, kind):\n",
    "        print(\"{} eat food....\".format(kind))\n",
    "\n",
    "class Dog(Animal):\n",
    "    pass\n",
    "\n",
    "class Cat(Animal):\n",
    "    pass\n",
    "    \n",
    "dog = Dog()\n",
    "cat = Cat()\n",
    "dog.eat(\"dog\")\n",
    "cat.eat(\"cat\")"
   ]
  },
  {
   "cell_type": "markdown",
   "metadata": {},
   "source": [
    "# 抽象基类"
   ]
  },
  {
   "cell_type": "code",
   "execution_count": 4,
   "metadata": {
    "ExecuteTime": {
     "end_time": "2019-10-27T12:36:42.605836Z",
     "start_time": "2019-10-27T12:36:42.573922Z"
    }
   },
   "outputs": [
    {
     "name": "stdout",
     "output_type": "stream",
     "text": [
      "Host : 00.00.00.00\n",
      "User : abc\n",
      "Password : 000000\n",
      "Register Success!\n",
      "Host : 11.11.11.11\n",
      "User : ABC\n",
      "Password : 111111\n",
      "Register Success!\n",
      "SELECT ID FROM db_name\n",
      "SELECT NAME FROM db_name\n"
     ]
    }
   ],
   "source": [
    "from abc import ABC\n",
    "from abc import abstractmethod\n",
    "\n",
    "\n",
    "class Database(ABC):\n",
    "    def register(self, host, user, password):\n",
    "        print(\"Host : {}\".format(host))\n",
    "        print(\"User : {}\".format(user))\n",
    "        print(\"Password : {}\".format(password))\n",
    "        print(\"Register Success!\")\n",
    "\n",
    "    @abstractmethod\n",
    "    def query(self, *args):\n",
    "        \"\"\"\n",
    "        传入查询数据的SQL语句并执行\n",
    "        \"\"\"\n",
    "\n",
    "    @staticmethod\n",
    "    @abstractmethod\n",
    "    def execute(sql_string):\n",
    "        \"\"\"\n",
    "        执行SQL语句\n",
    "        \"\"\"\n",
    "\n",
    "\n",
    "class Component1(Database):\n",
    "    def __init__(self, host, user, password):\n",
    "        self.register(host, user, password)\n",
    "\n",
    "    @staticmethod\n",
    "    def execute(sql_string):\n",
    "        print(sql_string)\n",
    "\n",
    "    def query(self, *args):\n",
    "        sql_string = \"SELECT ID FROM db_name\"\n",
    "        self.execute(sql_string)\n",
    "\n",
    "\n",
    "class Component2(Database):\n",
    "    def __init__(self, host, user, password):\n",
    "        self.register(host, user, password)\n",
    "\n",
    "    @staticmethod\n",
    "    def execute(sql_string):\n",
    "        print(sql_string)\n",
    "\n",
    "    def query(self, *args):\n",
    "        sql_string = \"SELECT NAME FROM db_name\"\n",
    "        self.execute(sql_string)\n",
    "\n",
    "comp1 = Component1(\"00.00.00.00\", \"abc\", \"000000\")\n",
    "comp2 = Component2(\"11.11.11.11\", \"ABC\", \"111111\")\n",
    "comp1.query()\n",
    "comp2.query()"
   ]
  },
  {
   "cell_type": "code",
   "execution_count": null,
   "metadata": {},
   "outputs": [],
   "source": []
  }
 ],
 "metadata": {
  "kernelspec": {
   "display_name": "Python 3",
   "language": "python",
   "name": "python3"
  },
  "language_info": {
   "codemirror_mode": {
    "name": "ipython",
    "version": 3
   },
   "file_extension": ".py",
   "mimetype": "text/x-python",
   "name": "python",
   "nbconvert_exporter": "python",
   "pygments_lexer": "ipython3",
   "version": "3.6.4"
  },
  "toc": {
   "base_numbering": 1,
   "nav_menu": {},
   "number_sections": true,
   "sideBar": true,
   "skip_h1_title": false,
   "title_cell": "Table of Contents",
   "title_sidebar": "Contents",
   "toc_cell": false,
   "toc_position": {},
   "toc_section_display": true,
   "toc_window_display": false
  }
 },
 "nbformat": 4,
 "nbformat_minor": 2
}
