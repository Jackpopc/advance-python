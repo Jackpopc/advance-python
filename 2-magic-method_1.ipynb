{
 "cells": [
  {
   "cell_type": "markdown",
   "metadata": {},
   "source": [
    "# \\_\\_new\\_\\_与\\_\\_init\\_\\_"
   ]
  },
  {
   "cell_type": "code",
   "execution_count": 23,
   "metadata": {},
   "outputs": [
    {
     "name": "stdout",
     "output_type": "stream",
     "text": [
      "<__main__.Animal object at 0x000002BB02FE97F0> in new method.\n",
      "<__main__.Animal object at 0x000002BB02FE97F0> in init method.\n"
     ]
    }
   ],
   "source": [
    "class Animal(object):\n",
    "    def __new__(cls, *args, **kargs):\n",
    "        instance = object.__new__(cls, *args, **kargs)\n",
    "        print(\"{} in new method.\".format(instance))\n",
    "        return instance\n",
    "    \n",
    "    def __init__(self):\n",
    "        print(\"{} in init method.\".format(self))\n",
    "        \n",
    "\n",
    "animal = Animal()"
   ]
  },
  {
   "cell_type": "markdown",
   "metadata": {},
   "source": [
    "# 单例模式"
   ]
  },
  {
   "cell_type": "code",
   "execution_count": 10,
   "metadata": {},
   "outputs": [
    {
     "name": "stdout",
     "output_type": "stream",
     "text": [
      "<__main__.NewInt object at 0x000002BB03001390>\n",
      "<__main__.NewInt object at 0x000002BB02FF4080>\n"
     ]
    }
   ],
   "source": [
    "class NewInt(object):\n",
    "    pass\n",
    "\n",
    "new1 = NewInt()\n",
    "new2 = NewInt()\n",
    "print(new1)\n",
    "print(new2)"
   ]
  },
  {
   "cell_type": "code",
   "execution_count": 11,
   "metadata": {},
   "outputs": [
    {
     "name": "stdout",
     "output_type": "stream",
     "text": [
      "<__main__.NewInt object at 0x000002BB02FF6080>\n",
      "<__main__.NewInt object at 0x000002BB02FF6080>\n"
     ]
    }
   ],
   "source": [
    "class NewInt(object):\n",
    "    _singleton = None\n",
    "    def __new__(cls, *args, **kwargs):\n",
    "        if not cls._singleton:\n",
    "            cls._singleton = object.__new__(cls, *args, **kwargs)\n",
    "        return cls._singleton\n",
    "\n",
    "new1 = NewInt()\n",
    "new2 = NewInt()\n",
    "print(new1)\n",
    "print(new2)"
   ]
  },
  {
   "cell_type": "markdown",
   "metadata": {},
   "source": [
    "# \\_\\_enter\\_\\_与\\_\\_exit\\_\\_"
   ]
  },
  {
   "cell_type": "code",
   "execution_count": null,
   "metadata": {},
   "outputs": [],
   "source": [
    "# file.txt\n",
    "\n",
    "fp = open(\"file.txt\", \"rb\")\n",
    "fp.readline()\n",
    "fp.close()"
   ]
  },
  {
   "cell_type": "code",
   "execution_count": null,
   "metadata": {},
   "outputs": [],
   "source": [
    "with open(\"file.txt\", \"rb\") as fp:\n",
    "    fp.readline()"
   ]
  },
  {
   "cell_type": "code",
   "execution_count": 12,
   "metadata": {},
   "outputs": [
    {
     "name": "stdout",
     "output_type": "stream",
     "text": [
      "in init method\n",
      "int enter method\n",
      "in read\n",
      "in exit method\n"
     ]
    }
   ],
   "source": [
    "class FileReader(object):\n",
    "    def __init__(self):\n",
    "        print(\"in init method\")\n",
    "\n",
    "    def __enter__(self):\n",
    "        print(\"int enter method\")\n",
    "        return self\n",
    "\n",
    "    def __exit__(self, exc_type, exc_val, exc_tb):\n",
    "        print(\"in exit method\")\n",
    "        del self\n",
    "\n",
    "    def read(self):\n",
    "        print(\"in read\")\n",
    "        \n",
    "with FileReader() as fr:\n",
    "    fr.read()"
   ]
  },
  {
   "cell_type": "markdown",
   "metadata": {},
   "source": [
    "# \\_\\_str\\_\\_与\\_\\_repr\\_\\_"
   ]
  },
  {
   "cell_type": "code",
   "execution_count": 13,
   "metadata": {},
   "outputs": [
    {
     "name": "stdout",
     "output_type": "stream",
     "text": [
      "str: Li now year is 27 years old.\n"
     ]
    }
   ],
   "source": [
    "class Person(object):\n",
    "    def __init__(self, name, age):\n",
    "        self.name = name\n",
    "        self.age = age\n",
    "\n",
    "    def __str__(self):\n",
    "        return \"str: {} now year is {} years old.\".format(self.name, self.age)\n",
    "\n",
    "    def __repr__(self):\n",
    "        return \"repr: {} now year is {} years old.\".format(self.name, self.age)\n",
    "\n",
    "person = Person(\"Li\", 27)\n",
    "print(person)"
   ]
  },
  {
   "cell_type": "markdown",
   "metadata": {},
   "source": [
    "# _\\_setattr\\_\\_、\\_\\_getattr\\_\\_、\\_\\_getattribute\\_\\_与_\\_delattr\\_\\_"
   ]
  },
  {
   "cell_type": "code",
   "execution_count": 15,
   "metadata": {},
   "outputs": [
    {
     "name": "stdout",
     "output_type": "stream",
     "text": [
      "Li\n",
      "27\n"
     ]
    }
   ],
   "source": [
    "class Person(object):\n",
    "    def __init__(self, name, age, home, work):\n",
    "        self.name = name\n",
    "        self.age = age\n",
    "        self.home = home\n",
    "        self.work = work\n",
    "\n",
    "person = Person(\"Li\", 27, \"China\", \"Python\")\n",
    "print(person.name)\n",
    "print(person.age)"
   ]
  },
  {
   "cell_type": "code",
   "execution_count": 21,
   "metadata": {},
   "outputs": [
    {
     "name": "stdout",
     "output_type": "stream",
     "text": [
      "in getattribute\n",
      "Li\n",
      "in getattribute\n",
      "in getattr\n",
      "Not find attribute: age\n"
     ]
    }
   ],
   "source": [
    "class Person(object):\n",
    "    def __init__(self, name):\n",
    "        self.name = name\n",
    "\n",
    "    def __setattr__(self, key, value):\n",
    "        object.__setattr__(self, key, value)\n",
    "\n",
    "    def __getattribute__(self, item):\n",
    "        print(\"in getattribute\")\n",
    "        return object.__getattribute__(self, item)\n",
    "\n",
    "    def __getattr__(self, item):\n",
    "        try:\n",
    "            print(\"in getattr\")\n",
    "            return object.__getattribute__(self, item)\n",
    "        except:\n",
    "            return \"Not find attribute: {}\".format(item)\n",
    "\n",
    "    def __delattr__(self, item):\n",
    "        print(\"in delattr\")\n",
    "        object.__delattr__(self, item)\n",
    "\n",
    "\n",
    "person = Person(\"Li\")\n",
    "print(person.name)\n",
    "print(person.age)"
   ]
  },
  {
   "cell_type": "code",
   "execution_count": 22,
   "metadata": {},
   "outputs": [
    {
     "name": "stdout",
     "output_type": "stream",
     "text": [
      "in getattribute\n",
      "27\n",
      "in delattr\n",
      "in getattribute\n",
      "in getattr\n",
      "Not find attribute: age\n"
     ]
    }
   ],
   "source": [
    "person.age = 27\n",
    "print(person.age)\n",
    "delattr(person, \"age\")\n",
    "print(person.age)"
   ]
  },
  {
   "cell_type": "code",
   "execution_count": null,
   "metadata": {},
   "outputs": [],
   "source": []
  }
 ],
 "metadata": {
  "kernelspec": {
   "display_name": "Python 3",
   "language": "python",
   "name": "python3"
  },
  "language_info": {
   "codemirror_mode": {
    "name": "ipython",
    "version": 3
   },
   "file_extension": ".py",
   "mimetype": "text/x-python",
   "name": "python",
   "nbconvert_exporter": "python",
   "pygments_lexer": "ipython3",
   "version": "3.6.4"
  }
 },
 "nbformat": 4,
 "nbformat_minor": 2
}
